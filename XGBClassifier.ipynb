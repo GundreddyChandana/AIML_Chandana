{
 "cells": [
  {
   "cell_type": "code",
   "execution_count": null,
   "id": "7bfecd54-0a47-4277-b636-391e33d78f32",
   "metadata": {},
   "outputs": [],
   "source": [
    "pip install xgboost"
   ]
  },
  {
   "cell_type": "code",
   "execution_count": null,
   "id": "f1a27304-a35b-4a7e-8b4e-c5433fb9d9a2",
   "metadata": {},
   "outputs": [],
   "source": [
    "import pandas as pd\n",
    "import numpy as np\n",
    "from sklearn.model_selection import train_test_split, StratifiedKFold, GridSearchCV\n",
    "from sklearn.metrics import classification_report, confusion_matrix, roc_auc_score\n",
    "from xgboost import XGBClassifier"
   ]
  },
  {
   "cell_type": "code",
   "execution_count": null,
   "id": "3aa14dda-d9a8-4810-9685-826911a31c10",
   "metadata": {},
   "outputs": [],
   "source": [
    "df = pd.read_csv('diabetes.csv')\n",
    "df"
   ]
  },
  {
   "cell_type": "code",
   "execution_count": null,
   "id": "d961d413-b9e8-4d24-a297-5acf877e81cc",
   "metadata": {},
   "outputs": [],
   "source": [
    "# split features and target\n",
    "X = df.drop('class', axis=1)\n",
    "y = df['class']\n",
    "X_train, X_test, y_train, y_test = train_test_split(X, y, test_size = 0.2, random_state = 42)"
   ]
  },
  {
   "cell_type": "code",
   "execution_count": null,
   "id": "de18b9af-1930-4b9a-8c84-011eeccbd606",
   "metadata": {},
   "outputs": [],
   "source": [
    "# Feature scaling\n",
    "scaler = StandardScaler ()\n",
    "X_train_scaled = scaler.fit_transform(X_train)\n",
    "X_test_scaled = scaler.transform(X_test)\n",
    "print(X_train_scaled)\n",
    "print(\"-----------------------\")\n",
    "print(X_test_scaled)"
   ]
  },
  {
   "cell_type": "code",
   "execution_count": null,
   "id": "408c9eb6-2a00-4be0-bfe0-3645a097f29e",
   "metadata": {},
   "outputs": [],
   "source": [
    "xgb =XGBClassifier(use_label_encoder=False, eval_metrics='logloss', random_state=42)\n",
    "\n",
    "\n",
    "#hyperparameter grid\n",
    "param_grid = {\n",
    "    'n_estimators': [100, 150, 200, 300],\n",
    "    'learning_rate': [0.01, 0.1, 0.15],\n",
    "    'max_depth': [2,3,4,5],\n",
    "    'subsample': [0.8, 1.0],\n",
    "    'colsample_bytree': [0.8, 1.0]\n",
    "}\n",
    "skf = StratifiedKFold(n_splits=5, shuffle=True, random_state=42)\n",
    "\n",
    "#grid search with cross-validation\n",
    "grid_search = GridSearchCV(estimator=xgb,\n",
    "                           param_grid=param_grid,\n",
    "                           scoring='recall',\n",
    "                           cv=skf,\n",
    "                           verbose=1,\n",
    "                           n_jobs=-1)"
   ]
  },
  {
   "cell_type": "code",
   "execution_count": null,
   "id": "106f0ee1-29ba-469b-a270-98a8004b0701",
   "metadata": {},
   "outputs": [],
   "source": [
    "#fit the model\n",
    "grid_search.fit(X_train_scaled, y_train)\n",
    "\n",
    "#best  score\n",
    "best_model = grid_search.best-estimator_\n",
    "print(\"Best Parameters:\", grid_search.best_params_)\n",
    "print(\"Best Cross-Validated Recall:\", grid_search.best_score_)\n",
    "y_pred = best_model.predict(X_test_scaled)"
   ]
  },
  {
   "cell_type": "code",
   "execution_count": null,
   "id": "4970b9ee-2fe2-4691-8efa-5b57c72e77ab",
   "metadata": {},
   "outputs": [],
   "source": [
    "print(\"\\nConfusion Matrix:\\n\", confusion_matrix(y_test, y_pred))\n",
    "print(\"\\nClassification Report:\\n\", classification_report(y_test, y_pred))"
   ]
  },
  {
   "cell_type": "code",
   "execution_count": null,
   "id": "934b4eee-ab43-4759-b05f-f7eb6b50d696",
   "metadata": {},
   "outputs": [],
   "source": [
    "best_model.feature_importances_"
   ]
  },
  {
   "cell_type": "code",
   "execution_count": null,
   "id": "18513c7d-47c4-43df-83fd-347ae0c6a4b7",
   "metadata": {},
   "outputs": [],
   "source": []
  }
 ],
 "metadata": {
  "kernelspec": {
   "display_name": "Python [conda env:base] *",
   "language": "python",
   "name": "conda-base-py"
  },
  "language_info": {
   "codemirror_mode": {
    "name": "ipython",
    "version": 3
   },
   "file_extension": ".py",
   "mimetype": "text/x-python",
   "name": "python",
   "nbconvert_exporter": "python",
   "pygments_lexer": "ipython3",
   "version": "3.12.7"
  }
 },
 "nbformat": 4,
 "nbformat_minor": 5
}
